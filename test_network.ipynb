{
 "cells": [
  {
   "cell_type": "code",
   "execution_count": 1,
   "metadata": {},
   "outputs": [],
   "source": [
    "%load_ext autoreload \n",
    "%autoreload 2\n",
    "\n",
    "import pickle as pkl\n",
    "import numpy as np\n",
    "from autodiff.activation import ReLU, Linear\n",
    "from autodiff.network import Network, NetworkParams\n",
    "\n",
    "file_path = 'test-parameters.pkl'\n",
    "\n",
    "with open(file_path, 'rb') as file:\n",
    "    data = pkl.load(file)"
   ]
  },
  {
   "cell_type": "code",
   "execution_count": 2,
   "metadata": {},
   "outputs": [],
   "source": [
    "network_def: NetworkParams = {\n",
    "    \"input_shape\": 2,\n",
    "    \"output_shape\": 1,\n",
    "    \"layers\": [\n",
    "        {\n",
    "            \"input_shape\": 2,\n",
    "            \"n_neurons\": len(data['w1']),\n",
    "            \"weight_init\": data['w1'],\n",
    "            \"bias_init\": data['b1'] ,\n",
    "            \"activation\": ReLU(),\n",
    "        },\n",
    "        {\n",
    "            \"input_shape\": len(data['w1']),\n",
    "            \"n_neurons\": len(data['w2']),\n",
    "            \"weight_init\": data['w2'],\n",
    "            \"bias_init\": data['b2'] ,\n",
    "            \"activation\": ReLU(),\n",
    "        },\n",
    "        {\n",
    "            \"input_shape\": len(data['w2']),\n",
    "            \"n_neurons\": len(data['w3']),\n",
    "            \"weight_init\": data['w3'],\n",
    "            \"bias_init\": data['b3'] ,\n",
    "            \"activation\": Linear(), \n",
    "        }\n",
    "    ]\n",
    "} \n"
   ]
  },
  {
   "cell_type": "code",
   "execution_count": 3,
   "metadata": {},
   "outputs": [
    {
     "name": "stdout",
     "output_type": "stream",
     "text": [
      "input_shape: 2\n",
      "output_shape: 1\n",
      "Num layers: 3\n",
      "\n",
      "Layer [0]\n",
      "Neurons:    10; Inputs: 2\n",
      "Weights:(10, 2) [[-0.00529397  0.37932295]\n",
      " [-0.58198076 -0.52038747]\n",
      " [-0.27234524  0.18961591]\n",
      " [-0.01401001  0.56065756]\n",
      " [-0.06275153  0.18710935]\n",
      " [-0.2136969  -0.13899273]\n",
      " [-0.67553341 -0.46830416]\n",
      " [-0.29148576  0.02619374]\n",
      " [ 0.27954417  0.42428023]\n",
      " [-0.47937673 -0.30791873]]\n",
      "Biases:(10,)  [ 0.25683326  0.58717293 -0.14552271  0.52913636 -0.11397386  0.07482189\n",
      "  0.64026839 -0.65596199 -0.44515052 -0.17901486]\n",
      "W grads: (10, 2) [[0. 0.]\n",
      " [0. 0.]\n",
      " [0. 0.]\n",
      " [0. 0.]\n",
      " [0. 0.]\n",
      " [0. 0.]\n",
      " [0. 0.]\n",
      " [0. 0.]\n",
      " [0. 0.]\n",
      " [0. 0.]]\n",
      "B grads: (10,)   [0. 0. 0. 0. 0. 0. 0. 0. 0. 0.]\n",
      "Activation: [0. 0. 0. 0. 0. 0. 0. 0. 0. 0.]\n",
      "Last input: [0. 0.]\n",
      "\n",
      "Layer [1]\n",
      "Neurons:    10; Inputs: 10\n",
      "Weights:(10, 10) [[-0.12326556  0.27322105 -0.2049724  -0.14557004 -0.2209295  -0.2961666\n",
      "  -0.18459494  0.27182874  0.14110664  0.15326691]\n",
      " [ 0.01663092 -0.16212475  0.05350089 -0.29526019 -0.22849551 -0.1630249\n",
      "   0.19952008  0.18541107 -0.14024544 -0.01141027]\n",
      " [ 0.20224687  0.31437251  0.12550515  0.04272011  0.21202639 -0.18619564\n",
      "   0.05892715 -0.24517313 -0.21917307 -0.16335806]\n",
      " [ 0.14308453  0.12717429 -0.18731831  0.09553465  0.1736002  -0.03991345\n",
      "   0.01207405  0.07327145  0.19618031  0.30364004]\n",
      " [-0.24369258 -0.11588791  0.12428063  0.26201031  0.27518371  0.2790257\n",
      "   0.06293392 -0.27498618  0.02909058 -0.19783378]\n",
      " [-0.29470977  0.28096601  0.2404469  -0.31544605  0.05918899 -0.05327174\n",
      "  -0.05203882 -0.14475544  0.12160733 -0.18730281]\n",
      " [ 0.11592636  0.15991893  0.22637847  0.11824107 -0.31298175 -0.20513597\n",
      "   0.15789726  0.0661869  -0.24668422 -0.1820901 ]\n",
      " [ 0.29749104  0.2130799  -0.13788326 -0.07958971 -0.30123797 -0.00568393\n",
      "  -0.23813814 -0.24392441 -0.01742402  0.04748005]\n",
      " [-0.12950484  0.18764248 -0.19243696  0.2869356   0.21671084 -0.26666948\n",
      "  -0.07870413  0.01426902  0.04613796  0.07500109]\n",
      " [ 0.12409672  0.01894209 -0.15429662  0.14963549 -0.30334112 -0.18743031\n",
      "  -0.07916126 -0.15403877 -0.11062703 -0.25918713]]\n",
      "Biases:(10,)  [-0.06726643  0.06759572 -0.20601156 -0.01622862  0.22637191 -0.03250828\n",
      "  0.00878868 -0.02728063  0.06399861  0.2010701 ]\n",
      "W grads: (10, 10) [[0. 0. 0. 0. 0. 0. 0. 0. 0. 0.]\n",
      " [0. 0. 0. 0. 0. 0. 0. 0. 0. 0.]\n",
      " [0. 0. 0. 0. 0. 0. 0. 0. 0. 0.]\n",
      " [0. 0. 0. 0. 0. 0. 0. 0. 0. 0.]\n",
      " [0. 0. 0. 0. 0. 0. 0. 0. 0. 0.]\n",
      " [0. 0. 0. 0. 0. 0. 0. 0. 0. 0.]\n",
      " [0. 0. 0. 0. 0. 0. 0. 0. 0. 0.]\n",
      " [0. 0. 0. 0. 0. 0. 0. 0. 0. 0.]\n",
      " [0. 0. 0. 0. 0. 0. 0. 0. 0. 0.]\n",
      " [0. 0. 0. 0. 0. 0. 0. 0. 0. 0.]]\n",
      "B grads: (10,)   [0. 0. 0. 0. 0. 0. 0. 0. 0. 0.]\n",
      "Activation: [0. 0. 0. 0. 0. 0. 0. 0. 0. 0.]\n",
      "Last input: [0. 0. 0. 0. 0. 0. 0. 0. 0. 0.]\n",
      "\n",
      "Layer [2]\n",
      "Neurons:    1; Inputs: 10\n",
      "Weights:(1, 10) [[ 0.29954556  0.20082232  0.30023089 -0.02287012 -0.28407419 -0.14991638\n",
      "   0.21532115 -0.00204995 -0.15717986 -0.24232906]]\n",
      "Biases:(1,)  [-0.2959424]\n",
      "W grads: (1, 10) [[0. 0. 0. 0. 0. 0. 0. 0. 0. 0.]]\n",
      "B grads: (1,)   [0.]\n",
      "Activation: [0.]\n",
      "Last input: [0. 0. 0. 0. 0. 0. 0. 0. 0. 0.]\n"
     ]
    }
   ],
   "source": [
    "network = Network(network_def)\n",
    "network.print_params()"
   ]
  },
  {
   "cell_type": "code",
   "execution_count": 4,
   "metadata": {},
   "outputs": [
    {
     "name": "stdout",
     "output_type": "stream",
     "text": [
      "EPOCH: 0\n",
      "####################\n",
      "First Layer w_grads:    [[-0.0210035  -0.09259178]\n",
      " [-0.0184767  -0.08145263]\n",
      " [ 0.          0.        ]\n",
      " [ 0.01776593  0.0783193 ]\n",
      " [ 0.          0.        ]\n",
      " [ 0.          0.        ]\n",
      " [-0.00974717 -0.04296942]\n",
      " [ 0.          0.        ]\n",
      " [ 0.          0.        ]\n",
      " [ 0.          0.        ]]\n",
      "First Layer b_grads:    [-0.21514022 -0.18925803  0.          0.18197762  0.          0.\n",
      " -0.09984094  0.          0.          0.        ]\n",
      "####################\n",
      "    Average loss: [0.5380008]\n",
      "EPOCH: 1\n",
      "    Average loss: [0.53495483]\n",
      "EPOCH: 2\n",
      "    Average loss: [0.53199438]\n",
      "EPOCH: 3\n",
      "    Average loss: [0.5291157]\n",
      "EPOCH: 4\n",
      "    Average loss: [0.52631708]\n",
      "EPOCH: 5\n",
      "    Average loss: [0.52359375]\n"
     ]
    }
   ],
   "source": [
    "def get_loss(y, y_hat): \n",
    "    return 0.5*((y_hat - y)**2)\n",
    "\n",
    "epochs = 6 # so that the loss after the final update is calculated\n",
    "loss_vals = []\n",
    "batch_size = len(data['inputs'])\n",
    "for iteration in range(epochs): \n",
    "    print(f'EPOCH: {iteration}')\n",
    "    current_loss = 0\n",
    "    network.zero_grad()\n",
    "    for index, input in enumerate(data['inputs']):\n",
    "        y_pred = network.forward(input)\n",
    "        y = data['targets'][index] \n",
    "        loss = get_loss(y, y_pred)\n",
    "        current_loss += loss\n",
    "        \n",
    "        network.backward(y_pred - y)\n",
    "\n",
    "        # print the gradients of the first input-output pair\n",
    "        if iteration==0 and index==0: \n",
    "            print(\"#\"*20)\n",
    "            print(\"First Layer w_grads:   \", network.layers[0].w_grads)\n",
    "            print(\"First Layer b_grads:   \", network.layers[0].b_grads)\n",
    "            print(\"#\"*20)\n",
    "\n",
    "    print(f\"    Average loss: {current_loss/batch_size}\")\n",
    "    network.update_params(learning_rate=0.01, batch_size=batch_size)\n",
    "    loss_vals.append(current_loss/batch_size)\n",
    "   "
   ]
  },
  {
   "cell_type": "code",
   "execution_count": 5,
   "metadata": {},
   "outputs": [
    {
     "data": {
      "image/png": "[encoded data removed]",
      "text/plain": [
       "<Figure size 640x480 with 1 Axes>"
      ]
     },
     "metadata": {},
     "output_type": "display_data"
    }
   ],
   "source": [
    "from matplotlib import pyplot as plt\n",
    "plt.plot(loss_vals)\n",
    "plt.xlabel('Epochs')\n",
    "plt.ylabel('Average Loss')\n",
    "plt.title('Loss vs Epochs')\n",
    "plt.grid()\n",
    "plt.show()"
   ]
  },
  {
   "cell_type": "code",
   "execution_count": null,
   "metadata": {},
   "outputs": [],
   "source": []
  }
 ],
 "metadata": {
  "kernelspec": {
   "display_name": "syde577",
   "language": "python",
   "name": "python3"
  },
  "language_info": {
   "codemirror_mode": {
    "name": "ipython",
    "version": 3
   },
   "file_extension": ".py",
   "mimetype": "text/x-python",
   "name": "python",
   "nbconvert_exporter": "python",
   "pygments_lexer": "ipython3",
   "version": "3.12.0"
  }
 },
 "nbformat": 4,
 "nbformat_minor": 2
}
