{
 "cells": [
  {
   "cell_type": "code",
   "execution_count": 126,
   "metadata": {},
   "outputs": [
    {
     "name": "stdout",
     "output_type": "stream",
     "text": [
      "The autoreload extension is already loaded. To reload it, use:\n",
      "  %reload_ext autoreload\n"
     ]
    }
   ],
   "source": [
    "import pickle as pkl\n",
    "import numpy as np\n",
    "from autodiff.activation import ReLU, Sigmoid, Linear\n",
    "from autodiff.network import Network, NetworkParams, PredictionType\n",
    "\n",
    "%load_ext autoreload\n",
    "%autoreload 2"
   ]
  },
  {
   "cell_type": "code",
   "execution_count": 135,
   "metadata": {},
   "outputs": [
    {
     "data": {
      "text/plain": [
       "array([1])"
      ]
     },
     "execution_count": 135,
     "metadata": {},
     "output_type": "execute_result"
    }
   ],
   "source": [
    "w = np.array([[1]])\n",
    "input = np.array([1])\n",
    "\n",
    "w.shape\n",
    "input.shape\n",
    "\n",
    "w @ input"
   ]
  },
  {
   "cell_type": "markdown",
   "metadata": {},
   "source": [
    "# Simple Network Test"
   ]
  },
  {
   "cell_type": "code",
   "execution_count": 137,
   "metadata": {},
   "outputs": [
    {
     "name": "stdout",
     "output_type": "stream",
     "text": [
      "input_shape: 1\n",
      "output_shape: 1\n",
      "Num layers: 3\n",
      "\n",
      "Layer [0]\n",
      "Neurons:    1; Inputs: 1\n",
      "Weights:(1, 1) [[1.]]\n",
      "Biases:(1,)  [0.]\n",
      "W grads: (1, 1) [[0.]]\n",
      "B grads: (1,)   [0.]\n",
      "Activation: [0.]\n",
      "Last input: [0.]\n",
      "\n",
      "Layer [1]\n",
      "Neurons:    2; Inputs: 1\n",
      "Weights:(1, 2) [[ 0.8 -0.6]]\n",
      "Biases:(2,)  [-0.5 -0.5]\n",
      "W grads: (1, 2) [[0. 0.]]\n",
      "B grads: (2,)   [0. 0.]\n",
      "Activation: [0. 0.]\n",
      "Last input: [0.]\n",
      "\n",
      "Layer [2]\n",
      "Neurons:    1; Inputs: 2\n",
      "Weights:(2, 1) [[0.5]\n",
      " [0.5]]\n",
      "Biases:(1,)  [0.]\n",
      "W grads: (2, 1) [[0.]\n",
      " [0.]]\n",
      "B grads: (1,)   [0.]\n",
      "Activation: [0.]\n",
      "Last input: [0. 0.]\n"
     ]
    }
   ],
   "source": [
    "network_def: NetworkParams = {\n",
    "    \"input_shape\": 1,\n",
    "    \"output_shape\": 1,\n",
    "    \"prediction_type\": PredictionType.REGRESSION,\n",
    "    \"layers\": [\n",
    "        {\n",
    "            \"input_shape\": 1,\n",
    "            \"n_neurons\": 1,\n",
    "            \"weights_init\": [[1]],\n",
    "            \"bias_init\": [0],\n",
    "            \"activation\": Linear(),\n",
    "        },\n",
    "        {\n",
    "            \"input_shape\": 1,\n",
    "            \"n_neurons\": 2,\n",
    "            \"weights_init\": [[0.8],[-0.6]],\n",
    "            \"bias_init\": [-0.5,-0.5],\n",
    "            \"activation\": ReLU(),\n",
    "        },\n",
    "        {\n",
    "            \"input_shape\": 2,\n",
    "            \"n_neurons\": 1,\n",
    "            \"weights_init\": [[0.5, 0.5]],\n",
    "            \"bias_init\": [0],\n",
    "            \"activation\": Linear(),\n",
    "        }\n",
    "    ]\n",
    "}\n",
    "\n",
    "network = Network(network_def)\n",
    "network.print_params()"
   ]
  },
  {
   "cell_type": "code",
   "execution_count": 138,
   "metadata": {},
   "outputs": [
    {
     "name": "stdout",
     "output_type": "stream",
     "text": [
      "[-1.]\n"
     ]
    },
    {
     "ename": "ValueError",
     "evalue": "matmul: Input operand 1 has a mismatch in its core dimension 0, with gufunc signature (n?,k),(k,m?)->(n?,m?) (size 1 is different from 2)",
     "output_type": "error",
     "traceback": [
      "\u001b[1;31m---------------------------------------------------------------------------\u001b[0m",
      "\u001b[1;31mValueError\u001b[0m                                Traceback (most recent call last)",
      "Cell \u001b[1;32mIn[138], line 1\u001b[0m\n\u001b[1;32m----> 1\u001b[0m y_hat \u001b[38;5;241m=\u001b[39m \u001b[43mnetwork\u001b[49m\u001b[38;5;241;43m.\u001b[39;49m\u001b[43mforward\u001b[49m\u001b[43m(\u001b[49m\u001b[43m[\u001b[49m\u001b[38;5;241;43m-\u001b[39;49m\u001b[38;5;241;43m1\u001b[39;49m\u001b[43m]\u001b[49m\u001b[43m)\u001b[49m\n\u001b[0;32m      2\u001b[0m \u001b[38;5;28mprint\u001b[39m(y_hat)\n\u001b[0;32m      3\u001b[0m y \u001b[38;5;241m=\u001b[39m \u001b[38;5;241m0.5\u001b[39m\n",
      "File \u001b[1;32mc:\\Users\\micha\\OneDrive - University of Waterloo\\4A\\SYDE577\\assignment 1\\autodiff\\autodiff\\network.py:48\u001b[0m, in \u001b[0;36mNetwork.forward\u001b[1;34m(self, x)\u001b[0m\n\u001b[0;32m     46\u001b[0m x \u001b[38;5;241m=\u001b[39m np\u001b[38;5;241m.\u001b[39marray(x)\n\u001b[0;32m     47\u001b[0m \u001b[38;5;28;01mfor\u001b[39;00m layer \u001b[38;5;129;01min\u001b[39;00m \u001b[38;5;28mself\u001b[39m\u001b[38;5;241m.\u001b[39mlayers: \n\u001b[1;32m---> 48\u001b[0m     x \u001b[38;5;241m=\u001b[39m \u001b[43mlayer\u001b[49m\u001b[38;5;241;43m.\u001b[39;49m\u001b[43mforward\u001b[49m\u001b[43m(\u001b[49m\u001b[43mx\u001b[49m\u001b[43m)\u001b[49m\n\u001b[0;32m     49\u001b[0m     \u001b[38;5;28mprint\u001b[39m(x)\n\u001b[0;32m     51\u001b[0m \u001b[38;5;28;01mreturn\u001b[39;00m x\n",
      "File \u001b[1;32mc:\\Users\\micha\\OneDrive - University of Waterloo\\4A\\SYDE577\\assignment 1\\autodiff\\autodiff\\layer.py:62\u001b[0m, in \u001b[0;36mLayer.forward\u001b[1;34m(self, input)\u001b[0m\n\u001b[0;32m     60\u001b[0m \u001b[38;5;66;03m# TODO: verify shapes\u001b[39;00m\n\u001b[0;32m     61\u001b[0m \u001b[38;5;28mself\u001b[39m\u001b[38;5;241m.\u001b[39mlast_input \u001b[38;5;241m=\u001b[39m \u001b[38;5;28minput\u001b[39m\n\u001b[1;32m---> 62\u001b[0m \u001b[38;5;28mself\u001b[39m\u001b[38;5;241m.\u001b[39mactivations \u001b[38;5;241m=\u001b[39m \u001b[38;5;28;43mself\u001b[39;49m\u001b[38;5;241;43m.\u001b[39;49m\u001b[43mw\u001b[49m\u001b[43m \u001b[49m\u001b[38;5;241;43m@\u001b[39;49m\u001b[43m \u001b[49m\u001b[38;5;28;43minput\u001b[39;49m \u001b[38;5;241m+\u001b[39m \u001b[38;5;28mself\u001b[39m\u001b[38;5;241m.\u001b[39mb\n\u001b[0;32m     63\u001b[0m \u001b[38;5;28;01mreturn\u001b[39;00m \u001b[38;5;28mself\u001b[39m\u001b[38;5;241m.\u001b[39mactivation_func\u001b[38;5;241m.\u001b[39mactivate(\u001b[38;5;28mself\u001b[39m\u001b[38;5;241m.\u001b[39mactivations)\n",
      "\u001b[1;31mValueError\u001b[0m: matmul: Input operand 1 has a mismatch in its core dimension 0, with gufunc signature (n?,k),(k,m?)->(n?,m?) (size 1 is different from 2)"
     ]
    }
   ],
   "source": [
    "y_hat = network.forward([-1])\n",
    "print(y_hat)\n",
    "y = 0.5\n",
    "\n",
    "def get_loss(y, y_hat): \n",
    "    return 0.5*(y_hat - y)**2\n",
    "\n",
    "loss = get_loss(y, y_hat)\n",
    "print(loss)"
   ]
  },
  {
   "cell_type": "code",
   "execution_count": 118,
   "metadata": {},
   "outputs": [
    {
     "name": "stdout",
     "output_type": "stream",
     "text": [
      "Neurons:    1; Inputs: 2\n",
      "Weights:(1, 2) [[0.5 0.5]]\n",
      "Biases:(1,)  [0.]\n",
      "W grads: (1, 2) [[0. 0.]]\n",
      "B grads: (1,)   [0.]\n",
      "Activation: [0.]\n",
      "Last input: [0. 0.]\n",
      "(1,)\n",
      "[-0.22499999 -0.22499999]\n",
      "Neurons:    2; Inputs: 1\n",
      "Weights:(1, 2) [[ 0.8 -0.6]]\n",
      "Biases:(2,)  [-0.5 -0.5]\n",
      "W grads: (1, 2) [[0. 0.]]\n",
      "B grads: (2,)   [0. 0.]\n",
      "Activation: [0. 0.]\n",
      "Last input: [-1.]\n",
      "(2,)\n"
     ]
    },
    {
     "ename": "ValueError",
     "evalue": "non-broadcastable output operand with shape (1,2) doesn't match the broadcast shape (2,2)",
     "output_type": "error",
     "traceback": [
      "\u001b[1;31m---------------------------------------------------------------------------\u001b[0m",
      "\u001b[1;31mValueError\u001b[0m                                Traceback (most recent call last)",
      "Cell \u001b[1;32mIn[118], line 4\u001b[0m\n\u001b[0;32m      1\u001b[0m delta \u001b[38;5;241m=\u001b[39m y_hat \u001b[38;5;241m-\u001b[39m y\n\u001b[0;32m      2\u001b[0m \u001b[38;5;66;03m# print(f\"{delta=}\")\u001b[39;00m\n\u001b[1;32m----> 4\u001b[0m \u001b[43mnetwork\u001b[49m\u001b[38;5;241;43m.\u001b[39;49m\u001b[43mbackward\u001b[49m\u001b[43m(\u001b[49m\u001b[43mdelta\u001b[49m\u001b[43m)\u001b[49m\n",
      "File \u001b[1;32mc:\\Users\\micha\\OneDrive - University of Waterloo\\4A\\SYDE577\\assignment 1\\autodiff\\autodiff\\network.py:60\u001b[0m, in \u001b[0;36mNetwork.backward\u001b[1;34m(self, delta)\u001b[0m\n\u001b[0;32m     54\u001b[0m \u001b[38;5;250m\u001b[39m\u001b[38;5;124;03m\"\"\"Backpropagates loss through the network\u001b[39;00m\n\u001b[0;32m     55\u001b[0m \n\u001b[0;32m     56\u001b[0m \u001b[38;5;124;03mArgs:\u001b[39;00m\n\u001b[0;32m     57\u001b[0m \u001b[38;5;124;03m    delta (np.array): the loss to propagate\u001b[39;00m\n\u001b[0;32m     58\u001b[0m \u001b[38;5;124;03m\"\"\"\u001b[39;00m\n\u001b[0;32m     59\u001b[0m \u001b[38;5;28;01mfor\u001b[39;00m layer \u001b[38;5;129;01min\u001b[39;00m \u001b[38;5;28mreversed\u001b[39m(\u001b[38;5;28mself\u001b[39m\u001b[38;5;241m.\u001b[39mlayers):\n\u001b[1;32m---> 60\u001b[0m     delta \u001b[38;5;241m=\u001b[39m \u001b[43mlayer\u001b[49m\u001b[38;5;241;43m.\u001b[39;49m\u001b[43mbackward\u001b[49m\u001b[43m(\u001b[49m\u001b[43mdelta\u001b[49m\u001b[43m)\u001b[49m\n\u001b[0;32m     61\u001b[0m     \u001b[38;5;28mprint\u001b[39m(delta)\n\u001b[0;32m     62\u001b[0m \u001b[38;5;28;01mreturn\u001b[39;00m\n",
      "File \u001b[1;32mc:\\Users\\micha\\OneDrive - University of Waterloo\\4A\\SYDE577\\assignment 1\\autodiff\\autodiff\\layer.py:78\u001b[0m, in \u001b[0;36mLayer.backward\u001b[1;34m(self, delta)\u001b[0m\n\u001b[0;32m     76\u001b[0m \u001b[38;5;28mprint\u001b[39m(delta\u001b[38;5;241m.\u001b[39mshape)\n\u001b[0;32m     77\u001b[0m cur_grad \u001b[38;5;241m=\u001b[39m np\u001b[38;5;241m.\u001b[39mouter(delta, \u001b[38;5;28mself\u001b[39m\u001b[38;5;241m.\u001b[39mlast_input)\n\u001b[1;32m---> 78\u001b[0m \u001b[38;5;28;43mself\u001b[39;49m\u001b[38;5;241;43m.\u001b[39;49m\u001b[43mw_grads\u001b[49m\u001b[43m \u001b[49m\u001b[38;5;241;43m+\u001b[39;49m\u001b[38;5;241;43m=\u001b[39;49m\u001b[43m \u001b[49m\u001b[43mcur_grad\u001b[49m\n\u001b[0;32m     79\u001b[0m \u001b[38;5;28mself\u001b[39m\u001b[38;5;241m.\u001b[39mb_grads \u001b[38;5;241m+\u001b[39m\u001b[38;5;241m=\u001b[39m delta \u001b[38;5;66;03m# treat this like another weight where the input is always 1\u001b[39;00m\n\u001b[0;32m     81\u001b[0m \u001b[38;5;66;03m# get the delta to pass back\u001b[39;00m\n",
      "\u001b[1;31mValueError\u001b[0m: non-broadcastable output operand with shape (1,2) doesn't match the broadcast shape (2,2)"
     ]
    }
   ],
   "source": [
    "delta = y_hat - y\n",
    "# print(f\"{delta=}\")\n",
    "\n",
    "network.backward(delta)\n"
   ]
  },
  {
   "cell_type": "code",
   "execution_count": 125,
   "metadata": {},
   "outputs": [
    {
     "name": "stdout",
     "output_type": "stream",
     "text": [
      "input_shape: 1\n",
      "output_shape: 1\n",
      "Num layers: 3\n",
      "\n",
      "Layer [0]\n",
      "Neurons:    1; Inputs: 1\n",
      "Weights:(1,) [1.]\n",
      "Biases:(1,)  [0.]\n",
      "W grads: (1,) [0.]\n",
      "B grads: (1,)   [0.]\n",
      "Activation: [-1.]\n",
      "Last input: [-1]\n",
      "\n",
      "Layer [1]\n",
      "Neurons:    2; Inputs: 1\n",
      "Weights:(1, 2) [[ 0.8 -0.6]]\n",
      "Biases:(2,)  [-0.5 -0.5]\n",
      "W grads: (1, 2) [[0. 0.]]\n",
      "B grads: (2,)   [0. 0.]\n",
      "Activation: [0. 0.]\n",
      "Last input: [-1.]\n",
      "\n",
      "Layer [2]\n",
      "Neurons:    1; Inputs: 2\n",
      "Weights:(1, 2) [[0.5 0.5]]\n",
      "Biases:(1,)  [0.]\n",
      "W grads: (1, 2) [[0. 0.]]\n",
      "B grads: (1,)   [0.]\n",
      "Activation: [0.]\n",
      "Last input: [0. 0.]\n"
     ]
    }
   ],
   "source": [
    "network.print_params()"
   ]
  },
  {
   "cell_type": "code",
   "execution_count": null,
   "metadata": {},
   "outputs": [],
   "source": []
  }
 ],
 "metadata": {
  "kernelspec": {
   "display_name": "syde577",
   "language": "python",
   "name": "python3"
  },
  "language_info": {
   "codemirror_mode": {
    "name": "ipython",
    "version": 3
   },
   "file_extension": ".py",
   "mimetype": "text/x-python",
   "name": "python",
   "nbconvert_exporter": "python",
   "pygments_lexer": "ipython3",
   "version": "3.12.0"
  }
 },
 "nbformat": 4,
 "nbformat_minor": 2
}
