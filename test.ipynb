{
 "cells": [
  {
   "cell_type": "code",
   "execution_count": 13,
   "metadata": {},
   "outputs": [
    {
     "name": "stdout",
     "output_type": "stream",
     "text": [
      "The autoreload extension is already loaded. To reload it, use:\n",
      "  %reload_ext autoreload\n"
     ]
    }
   ],
   "source": [
    "import pickle as pkl\n",
    "import numpy as np\n",
    "from autodiff.activation import ReLU, Sigmoid, Linear\n",
    "from autodiff.network import Network, NetworkParams, PredictionType\n",
    "\n",
    "%load_ext autoreload\n",
    "%autoreload 2"
   ]
  },
  {
   "cell_type": "markdown",
   "metadata": {},
   "source": [
    "# Simple Network Test\n",
    "\n",
    "Comparing with hand-calculated simple example"
   ]
  },
  {
   "cell_type": "code",
   "execution_count": 15,
   "metadata": {},
   "outputs": [],
   "source": [
    "network_def: NetworkParams = {\n",
    "    \"input_shape\": 1,\n",
    "    \"output_shape\": 1,\n",
    "    \"prediction_type\": PredictionType.REGRESSION,\n",
    "    \"layers\": [\n",
    "        {\n",
    "            \"input_shape\": 1,\n",
    "            \"n_neurons\": 1,\n",
    "            \"weights_init\": [[1]],\n",
    "            \"bias_init\": [0],\n",
    "            \"activation\": Linear(),\n",
    "        },\n",
    "        {\n",
    "            \"input_shape\": 1,\n",
    "            \"n_neurons\": 2,\n",
    "            \"weights_init\": [[0.8],[-0.6]],\n",
    "            \"bias_init\": [-0.5,-0.5],\n",
    "            \"activation\": ReLU(),\n",
    "        },\n",
    "        {\n",
    "            \"input_shape\": 2,\n",
    "            \"n_neurons\": 1,\n",
    "            \"weights_init\": [[0.5, 0.5]],\n",
    "            \"bias_init\": [0],\n",
    "            \"activation\": Linear(),\n",
    "        }\n",
    "    ]\n",
    "}\n",
    "\n",
    "network = Network(network_def)\n"
   ]
  },
  {
   "cell_type": "code",
   "execution_count": 16,
   "metadata": {},
   "outputs": [
    {
     "name": "stdout",
     "output_type": "stream",
     "text": [
      "[-1.]\n",
      "[0.         0.10000002]\n",
      "[0.05000001]\n",
      "[0.10124999]\n"
     ]
    }
   ],
   "source": [
    "y_hat = network.forward([-1])\n",
    "# print(y_hat)\n",
    "y = 0.5\n",
    "\n",
    "def get_loss(y, y_hat): \n",
    "    return 0.5*(y_hat - y)**2\n",
    "\n",
    "loss = get_loss(y, y_hat)\n",
    "print(loss)"
   ]
  },
  {
   "cell_type": "code",
   "execution_count": 17,
   "metadata": {},
   "outputs": [
    {
     "name": "stdout",
     "output_type": "stream",
     "text": [
      "[-0.44999999]\n",
      "[-0.22499999 -0.22499999]\n",
      "[0.135]\n",
      "[0.135]\n"
     ]
    }
   ],
   "source": [
    "delta = y_hat - y\n",
    "\n",
    "network.backward(delta)\n"
   ]
  },
  {
   "cell_type": "code",
   "execution_count": 18,
   "metadata": {},
   "outputs": [
    {
     "name": "stdout",
     "output_type": "stream",
     "text": [
      "input_shape: 1\n",
      "output_shape: 1\n",
      "Num layers: 3\n",
      "\n",
      "Layer [0]\n",
      "Neurons:    1; Inputs: 1\n",
      "Weights:(1, 1) [[1.]]\n",
      "Biases:(1,)  [0.]\n",
      "W grads: (1, 1) [[-0.135]]\n",
      "B grads: (1,)   [0.135]\n",
      "Activation: [-1.]\n",
      "Last input: [-1]\n",
      "\n",
      "Layer [1]\n",
      "Neurons:    2; Inputs: 1\n",
      "Weights:(2, 1) [[ 0.8]\n",
      " [-0.6]]\n",
      "Biases:(2,)  [-0.5 -0.5]\n",
      "W grads: (2, 1) [[0.   ]\n",
      " [0.225]]\n",
      "B grads: (2,)   [ 0.    -0.225]\n",
      "Activation: [0.         0.10000002]\n",
      "Last input: [-1.]\n",
      "\n",
      "Layer [2]\n",
      "Neurons:    1; Inputs: 2\n",
      "Weights:(1, 2) [[0.5 0.5]]\n",
      "Biases:(1,)  [0.]\n",
      "W grads: (1, 2) [[ 0.         -0.04500001]]\n",
      "B grads: (1,)   [-0.45]\n",
      "Activation: [0.05000001]\n",
      "Last input: [0.         0.10000002]\n"
     ]
    }
   ],
   "source": [
    "network.print_params()"
   ]
  },
  {
   "cell_type": "markdown",
   "metadata": {},
   "source": [
    "## Another Example\n",
    "\n",
    "Foreward and Backward example [here](https://towardsdatascience.com/neural-networks-forward-pass-and-backpropagation-be3b75a1cfcc)\n"
   ]
  },
  {
   "cell_type": "code",
   "execution_count": 19,
   "metadata": {},
   "outputs": [],
   "source": [
    "w1 = -0.00748682\n",
    "w2 = 0.5364436\n",
    "w3 = -0.27234524\n",
    "w4 = -0.01401001\n",
    "w5 = 0.1896159\n",
    "w6 = 0.56065756\n",
    "w7 = -0.2136969\n",
    "w8 = -0.13899273\n",
    "b1 = -0.82304513\n",
    "b2 = -0.735939\n",
    "b3 = -0.06275153\n",
    "b4 = 0.18710935\n",
    "b5 = -0.6755334\n",
    "\n",
    "network_def: NetworkParams = {\n",
    "    \"input_shape\": 1,\n",
    "    \"output_shape\": 1,\n",
    "    \"prediction_type\": PredictionType.REGRESSION,\n",
    "    \"layers\": [\n",
    "        {\n",
    "            \"input_shape\": 1,\n",
    "            \"n_neurons\": 2,\n",
    "            \"weights_init\": [[w1], [w2]],\n",
    "            \"bias_init\": [b1,b2],\n",
    "            \"activation\": ReLU(),\n",
    "        },\n",
    "        {\n",
    "            \"input_shape\": 2,\n",
    "            \"n_neurons\": 2,\n",
    "            \"weights_init\": [[w3,w5],[w4 ,w6]],\n",
    "            \"bias_init\": [b3,b4],\n",
    "            \"activation\": ReLU(),\n",
    "        },\n",
    "        {\n",
    "            \"input_shape\": 2,\n",
    "            \"n_neurons\": 1,\n",
    "            \"weights_init\": [[w7, w8]],\n",
    "            \"bias_init\": [b5],\n",
    "            \"activation\": Linear(),\n",
    "        }\n",
    "    ]\n",
    "}\n",
    "\n",
    "network = Network(network_def)"
   ]
  },
  {
   "cell_type": "code",
   "execution_count": 20,
   "metadata": {},
   "outputs": [
    {
     "name": "stdout",
     "output_type": "stream",
     "text": [
      "[0. 0.]\n",
      "[0.         0.18710935]\n",
      "[-0.70154025]\n",
      "\n",
      "Backwards pass:\n",
      "[-3.40308051]\n",
      "[0.72722774 0.47300344]\n",
      "[-0.00662678  0.26519295]\n",
      "[0.]\n"
     ]
    }
   ],
   "source": [
    "network.zero_grad()\n",
    "x = [1]\n",
    "y = 1\n",
    "y_hat = network.forward(x)\n",
    "\n",
    "print()\n",
    "print(\"Backwards pass:\")\n",
    "network.backward(2*(y_hat-y))"
   ]
  },
  {
   "cell_type": "code",
   "execution_count": 21,
   "metadata": {},
   "outputs": [
    {
     "name": "stdout",
     "output_type": "stream",
     "text": [
      "input_shape: 1\n",
      "output_shape: 1\n",
      "Num layers: 3\n",
      "\n",
      "Layer [2]\n",
      "Neurons:    1; Inputs: 2\n",
      "Weights:(1, 2) [[-0.2136969  -0.13262525]]\n",
      "Biases:(1,)  [-0.6415026]\n",
      "W grads: (1, 2) [[ 0.        -0.6367482]]\n",
      "B grads: (1,)   [-3.4030805]\n",
      "Activation: [-0.70154025]\n",
      "Last input: [0.         0.18710935]\n",
      "\n",
      "Layer [1]\n",
      "Neurons:    2; Inputs: 2\n",
      "Weights:(2, 2) [[-0.27234524  0.1896159 ]\n",
      " [-0.01401001  0.56065756]]\n",
      "Biases:(2,)  [-0.06275153  0.18237932]\n",
      "W grads: (2, 2) [[0. 0.]\n",
      " [0. 0.]]\n",
      "B grads: (2,)   [0.         0.47300345]\n",
      "Activation: [0.         0.18710935]\n",
      "Last input: [0. 0.]\n",
      "\n",
      "Layer [0]\n",
      "Neurons:    2; Inputs: 1\n",
      "Weights:(2, 1) [[-0.00748682]\n",
      " [ 0.5364436 ]]\n",
      "Biases:(2,)  [-0.82304513 -0.735939  ]\n",
      "W grads: (2, 1) [[0.]\n",
      " [0.]]\n",
      "B grads: (2,)   [0. 0.]\n",
      "Activation: [0. 0.]\n",
      "Last input: [1]\n"
     ]
    }
   ],
   "source": [
    "network.update_params()\n",
    "network.print_params(reverse=True)"
   ]
  },
  {
   "cell_type": "markdown",
   "metadata": {},
   "source": [
    "These results check out"
   ]
  },
  {
   "cell_type": "markdown",
   "metadata": {},
   "source": [
    "## Another Example\n",
    "\n",
    "Foreward and Backward example [here](https://theneuralblog.com/forward-pass-backpropagation-example/)"
   ]
  },
  {
   "cell_type": "code",
   "execution_count": 22,
   "metadata": {},
   "outputs": [],
   "source": [
    "network_def: NetworkParams = {\n",
    "    \"input_shape\": 2,\n",
    "    \"output_shape\": 2,\n",
    "    \"prediction_type\": PredictionType.REGRESSION,\n",
    "    \"layers\": [\n",
    "        {\n",
    "            \"input_shape\": 2,\n",
    "            \"n_neurons\": 2,\n",
    "            \"weights_init\": [[0.1, 0.3],[0.2, 0.4]],\n",
    "            \"bias_init\": [0.25, 0.25],\n",
    "            \"activation\": Sigmoid(),\n",
    "        },\n",
    "        {\n",
    "            \"input_shape\": 2,\n",
    "            \"n_neurons\": 2,\n",
    "            \"weights_init\": [[0.5, 0.6],[0.7, 0.8]],\n",
    "            \"bias_init\": [0.35, 0.35],\n",
    "            \"activation\": Sigmoid(),\n",
    "        },\n",
    "    ]\n",
    "}\n",
    "\n",
    "network = Network(network_def)\n",
    "# network.print_params()"
   ]
  },
  {
   "cell_type": "code",
   "execution_count": 23,
   "metadata": {},
   "outputs": [
    {
     "name": "stdout",
     "output_type": "stream",
     "text": [
      "[0.60108788 0.61538376]\n",
      "[0.73492861 0.77955388]\n",
      "y_hat=array([0.73492861, 0.77955388])\n",
      "\n",
      "Backwards pass:\n",
      "[ 0.68492861 -0.17044612]\n",
      "[0.0462112  0.05662509]\n",
      "[0.00378854 0.00868513]\n"
     ]
    }
   ],
   "source": [
    "network.zero_grad()\n",
    "x = [0.1, 0.5]\n",
    "y = [0.05, 0.95]\n",
    "y_hat = network.forward(x)\n",
    "print(f\"{y_hat=}\")\n",
    "\n",
    "print()\n",
    "print(\"Backwards pass:\")\n",
    "network.backward((y_hat-y))"
   ]
  },
  {
   "cell_type": "code",
   "execution_count": 24,
   "metadata": {},
   "outputs": [
    {
     "name": "stdout",
     "output_type": "stream",
     "text": [
      "input_shape: 2\n",
      "output_shape: 2\n",
      "Num layers: 2\n",
      "\n",
      "Layer [1]\n",
      "Neurons:    2; Inputs: 2\n",
      "Weights:(2, 2) [[0.45187813 0.5507336 ]\n",
      " [0.7105639  0.81081516]]\n",
      "Biases:(2,)  [0.26994202 0.36757466]\n",
      "W grads: (2, 2) [[ 0.08020312  0.08211062]\n",
      " [-0.01760653 -0.01802527]]\n",
      "B grads: (2,)   [ 0.13342994 -0.0292911 ]\n",
      "Activation: [1.0197742  1.26306852]\n",
      "Last input: [0.60108788 0.61538376]\n",
      "\n",
      "Layer [0]\n",
      "Neurons:    2; Inputs: 2\n",
      "Weights:(2, 2) [[0.09933516 0.29667583]\n",
      " [0.19919586 0.3959793 ]]\n",
      "Biases:(2,)  [0.24335165 0.24195856]\n",
      "W grads: (2, 2) [[0.00110806 0.00554029]\n",
      " [0.00134024 0.0067012 ]]\n",
      "B grads: (2,)   [0.01108058 0.0134024 ]\n",
      "Activation: [0.41000001 0.47      ]\n",
      "Last input: [0.1 0.5]\n"
     ]
    }
   ],
   "source": [
    "network.update_params(0.6)\n",
    "network.print_params(reverse=True)"
   ]
  },
  {
   "cell_type": "markdown",
   "metadata": {},
   "source": [
    "These results are correct"
   ]
  }
 ],
 "metadata": {
  "kernelspec": {
   "display_name": "syde577",
   "language": "python",
   "name": "python3"
  },
  "language_info": {
   "codemirror_mode": {
    "name": "ipython",
    "version": 3
   },
   "file_extension": ".py",
   "mimetype": "text/x-python",
   "name": "python",
   "nbconvert_exporter": "python",
   "pygments_lexer": "ipython3",
   "version": "3.12.0"
  }
 },
 "nbformat": 4,
 "nbformat_minor": 2
}
